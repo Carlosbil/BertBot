{
 "cells": [
  {
   "cell_type": "markdown",
   "metadata": {},
   "source": [
    "# BDP_ESPBot\n",
    "\n",
    "---\n",
    "\n",
    "A bot based on BETO (BERT TRAINED IN SPANISH LENGUAGE) using transfer learning\n",
    "The dataset to train and test the model will be available of interact in spanish but no in english"
   ]
  },
  {
   "cell_type": "code",
   "execution_count": null,
   "metadata": {},
   "outputs": [],
   "source": [
    "# load bert tokenizer and Classification from transformers\n",
    "from transformers import BertModel, BertTokenizer\n",
    "\n",
    "tokenizer = BertTokenizer.from_pretrained(\"dccuchile/bert-base-spanish-wwm-cased\")\n",
    "\n",
    "# Load BETO model   \n",
    "model = BertModel.from_pretrained(\"dccuchile/bert-base-spanish-wwm-cased\")\n"
   ]
  },
  {
   "cell_type": "markdown",
   "metadata": {},
   "source": [
    "Now we are going to prepate the dataset for this model:\n",
    "- https://github.com/ccasimiro88/TranslateAlignRetrieve\n"
   ]
  },
  {
   "cell_type": "code",
   "execution_count": null,
   "metadata": {},
   "outputs": [],
   "source": [
    "# Download dataset if it doesn't exist\n",
    "import os\n",
    "from datasets import load_dataset\n",
    "\n",
    "target_path = 'squad_es'\n",
    "\n",
    "if target_path not in os.listdir():\n",
    "        # Dowload the file showing the progress bar\n",
    "    print(\"Downloading file\")\n",
    "    dataset = load_dataset(\"squad_es\", 'v1.1.0')  \n",
    "    dataset.save_to_disk(target_path)  \n",
    "else:\n",
    "    print(\"File already exists\")"
   ]
  },
  {
   "cell_type": "code",
   "execution_count": null,
   "metadata": {},
   "outputs": [],
   "source": [
    "from datasets import load_from_disk\n",
    "import pandas as pd\n",
    "\n",
    "# Cargar el conjunto de datos desde el disco\n",
    "dataset = load_from_disk('squad_es')\n",
    "\n",
    "# Convertir el conjunto de datos en DataFrame de Pandas\n",
    "# Asumiendo que quieres convertir la parte 'train' del conjunto de datos\n",
    "df = pd.DataFrame(dataset['train'])\n",
    "test = pd.DataFrame(dataset['validation'])\n",
    "\n",
    "df.to_csv('squad_train.csv', index=False)\n",
    "test.to_csv('squad_test.csv', index=False)\n"
   ]
  }
 ],
 "metadata": {
  "kernelspec": {
   "display_name": "Python 3",
   "language": "python",
   "name": "python3"
  },
  "language_info": {
   "codemirror_mode": {
    "name": "ipython",
    "version": 3
   },
   "file_extension": ".py",
   "mimetype": "text/x-python",
   "name": "python",
   "nbconvert_exporter": "python",
   "pygments_lexer": "ipython3",
   "version": "3.10.11"
  }
 },
 "nbformat": 4,
 "nbformat_minor": 2
}
