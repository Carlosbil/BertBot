{
 "cells": [
  {
   "cell_type": "markdown",
   "metadata": {},
   "source": [
    "# BDP_ESPBot\n",
    "\n",
    "---\n",
    "\n",
    "A bot based on BETO (BERT TRAINED IN SPANISH LENGUAGE) using transfer learning\n",
    "The dataset to train and test the model will be available of interact in spanish but no in english"
   ]
  },
  {
   "cell_type": "code",
   "execution_count": 1,
   "metadata": {},
   "outputs": [
    {
     "name": "stderr",
     "output_type": "stream",
     "text": [
      "e:\\BertBot\\.venv\\lib\\site-packages\\tqdm\\auto.py:21: TqdmWarning: IProgress not found. Please update jupyter and ipywidgets. See https://ipywidgets.readthedocs.io/en/stable/user_install.html\n",
      "  from .autonotebook import tqdm as notebook_tqdm\n",
      "tokenizer_config.json: 100%|██████████| 364/364 [00:00<00:00, 182kB/s]\n",
      "e:\\BertBot\\.venv\\lib\\site-packages\\huggingface_hub\\file_download.py:147: UserWarning: `huggingface_hub` cache-system uses symlinks by default to efficiently store duplicated files but your machine does not support them in C:\\Users\\carlo\\.cache\\huggingface\\hub. Caching files will still work but in a degraded version that might require more space on your disk. This warning can be disabled by setting the `HF_HUB_DISABLE_SYMLINKS_WARNING` environment variable. For more details, see https://huggingface.co/docs/huggingface_hub/how-to-cache#limitations.\n",
      "To support symlinks on Windows, you either need to activate Developer Mode or to run Python as an administrator. In order to see activate developer mode, see this article: https://docs.microsoft.com/en-us/windows/apps/get-started/enable-your-device-for-development\n",
      "  warnings.warn(message)\n",
      "vocab.txt: 100%|██████████| 242k/242k [00:00<00:00, 1.13MB/s]\n",
      "special_tokens_map.json: 100%|██████████| 134/134 [00:00<00:00, 134kB/s]\n",
      "tokenizer.json: 100%|██████████| 480k/480k [00:00<00:00, 2.27MB/s]\n",
      "config.json: 100%|██████████| 648/648 [00:00<00:00, 324kB/s]\n",
      "pytorch_model.bin: 100%|██████████| 440M/440M [00:06<00:00, 65.4MB/s] \n",
      "Some weights of BertModel were not initialized from the model checkpoint at dccuchile/bert-base-spanish-wwm-cased and are newly initialized: ['bert.pooler.dense.weight', 'bert.pooler.dense.bias']\n",
      "You should probably TRAIN this model on a down-stream task to be able to use it for predictions and inference.\n"
     ]
    }
   ],
   "source": [
    "# load bert tokenizer and Classification from transformers\n",
    "from transformers import BertModel, BertTokenizer\n",
    "\n",
    "tokenizer = BertTokenizer.from_pretrained(\"dccuchile/bert-base-spanish-wwm-cased\")\n",
    "\n",
    "# Load BETO model   \n",
    "model = BertModel.from_pretrained(\"dccuchile/bert-base-spanish-wwm-cased\")\n"
   ]
  },
  {
   "cell_type": "markdown",
   "metadata": {},
   "source": [
    "Now we are going to prepate the dataset for this model:\n",
    "- https://github.com/ccasimiro88/TranslateAlignRetrieve\n"
   ]
  },
  {
   "cell_type": "code",
   "execution_count": 2,
   "metadata": {},
   "outputs": [
    {
     "name": "stdout",
     "output_type": "stream",
     "text": [
      "File already exists\n"
     ]
    }
   ],
   "source": [
    "# Download dataset if it doesn't exist\n",
    "import os\n",
    "from datasets import load_dataset\n",
    "\n",
    "target_path = 'squad_es'\n",
    "\n",
    "if target_path not in os.listdir():\n",
    "        # Dowload the file showing the progress bar\n",
    "    print(\"Downloading file\")\n",
    "    dataset = load_dataset(\"squad_es\", 'v1.1.0')  \n",
    "    dataset.save_to_disk(target_path)  \n",
    "else:\n",
    "    print(\"File already exists\")"
   ]
  },
  {
   "cell_type": "code",
   "execution_count": 3,
   "metadata": {},
   "outputs": [],
   "source": [
    "from datasets import load_from_disk\n",
    "import pandas as pd\n",
    "\n",
    "# Cargar el conjunto de datos desde el disco\n",
    "dataset = load_from_disk('squad_es')\n",
    "\n",
    "# Convertir el conjunto de datos en DataFrame de Pandas\n",
    "# Asumiendo que quieres convertir la parte 'train' del conjunto de datos\n",
    "df = pd.DataFrame(dataset['train'])\n",
    "test = pd.DataFrame(dataset['validation'])\n",
    "\n",
    "df.to_csv('squad_train.csv', index=False)\n",
    "test.to_csv('squad_test.csv', index=False)\n"
   ]
  },
  {
   "cell_type": "code",
   "execution_count": 4,
   "metadata": {},
   "outputs": [
    {
     "data": {
      "text/html": [
       "<div>\n",
       "<style scoped>\n",
       "    .dataframe tbody tr th:only-of-type {\n",
       "        vertical-align: middle;\n",
       "    }\n",
       "\n",
       "    .dataframe tbody tr th {\n",
       "        vertical-align: top;\n",
       "    }\n",
       "\n",
       "    .dataframe thead th {\n",
       "        text-align: right;\n",
       "    }\n",
       "</style>\n",
       "<table border=\"1\" class=\"dataframe\">\n",
       "  <thead>\n",
       "    <tr style=\"text-align: right;\">\n",
       "      <th></th>\n",
       "      <th>id</th>\n",
       "      <th>title</th>\n",
       "      <th>context</th>\n",
       "      <th>question</th>\n",
       "      <th>answers</th>\n",
       "    </tr>\n",
       "  </thead>\n",
       "  <tbody>\n",
       "    <tr>\n",
       "      <th>0</th>\n",
       "      <td>5733be284776f41900661182</td>\n",
       "      <td>Universidad _ de _ Notre _ Dame</td>\n",
       "      <td>Arquitectónicamente, la escuela tiene un carác...</td>\n",
       "      <td>¿A quién acudió la Virgen María supuestamente ...</td>\n",
       "      <td>{'text': ['Santa Bernadette Soubirous'], 'answ...</td>\n",
       "    </tr>\n",
       "    <tr>\n",
       "      <th>1</th>\n",
       "      <td>5733be284776f4190066117f</td>\n",
       "      <td>Universidad _ de _ Notre _ Dame</td>\n",
       "      <td>Arquitectónicamente, la escuela tiene un carác...</td>\n",
       "      <td>¿Qué hay frente al edificio principal de Notre...</td>\n",
       "      <td>{'text': ['una estatua de cobre de Cristo'], '...</td>\n",
       "    </tr>\n",
       "    <tr>\n",
       "      <th>2</th>\n",
       "      <td>5733be284776f41900661180</td>\n",
       "      <td>Universidad _ de _ Notre _ Dame</td>\n",
       "      <td>Arquitectónicamente, la escuela tiene un carác...</td>\n",
       "      <td>La Basílica del Sagrado Corazón en Notre Dame ...</td>\n",
       "      <td>{'text': ['el edificio principal'], 'answer_st...</td>\n",
       "    </tr>\n",
       "    <tr>\n",
       "      <th>3</th>\n",
       "      <td>5733be284776f41900661181</td>\n",
       "      <td>Universidad _ de _ Notre _ Dame</td>\n",
       "      <td>Arquitectónicamente, la escuela tiene un carác...</td>\n",
       "      <td>¿Qué es la Gruta de Notre Dame?</td>\n",
       "      <td>{'text': ['un lugar mariano de oración y refle...</td>\n",
       "    </tr>\n",
       "    <tr>\n",
       "      <th>4</th>\n",
       "      <td>5733be284776f4190066117e</td>\n",
       "      <td>Universidad _ de _ Notre _ Dame</td>\n",
       "      <td>Arquitectónicamente, la escuela tiene un carác...</td>\n",
       "      <td>¿Qué se encuentra en la parte superior del edi...</td>\n",
       "      <td>{'text': ['una estatua dorada de la Virgen Mar...</td>\n",
       "    </tr>\n",
       "  </tbody>\n",
       "</table>\n",
       "</div>"
      ],
      "text/plain": [
       "                         id                            title  \\\n",
       "0  5733be284776f41900661182  Universidad _ de _ Notre _ Dame   \n",
       "1  5733be284776f4190066117f  Universidad _ de _ Notre _ Dame   \n",
       "2  5733be284776f41900661180  Universidad _ de _ Notre _ Dame   \n",
       "3  5733be284776f41900661181  Universidad _ de _ Notre _ Dame   \n",
       "4  5733be284776f4190066117e  Universidad _ de _ Notre _ Dame   \n",
       "\n",
       "                                             context  \\\n",
       "0  Arquitectónicamente, la escuela tiene un carác...   \n",
       "1  Arquitectónicamente, la escuela tiene un carác...   \n",
       "2  Arquitectónicamente, la escuela tiene un carác...   \n",
       "3  Arquitectónicamente, la escuela tiene un carác...   \n",
       "4  Arquitectónicamente, la escuela tiene un carác...   \n",
       "\n",
       "                                            question  \\\n",
       "0  ¿A quién acudió la Virgen María supuestamente ...   \n",
       "1  ¿Qué hay frente al edificio principal de Notre...   \n",
       "2  La Basílica del Sagrado Corazón en Notre Dame ...   \n",
       "3                    ¿Qué es la Gruta de Notre Dame?   \n",
       "4  ¿Qué se encuentra en la parte superior del edi...   \n",
       "\n",
       "                                             answers  \n",
       "0  {'text': ['Santa Bernadette Soubirous'], 'answ...  \n",
       "1  {'text': ['una estatua de cobre de Cristo'], '...  \n",
       "2  {'text': ['el edificio principal'], 'answer_st...  \n",
       "3  {'text': ['un lugar mariano de oración y refle...  \n",
       "4  {'text': ['una estatua dorada de la Virgen Mar...  "
      ]
     },
     "execution_count": 4,
     "metadata": {},
     "output_type": "execute_result"
    }
   ],
   "source": [
    "df.head()"
   ]
  }
 ],
 "metadata": {
  "kernelspec": {
   "display_name": "Python 3",
   "language": "python",
   "name": "python3"
  },
  "language_info": {
   "codemirror_mode": {
    "name": "ipython",
    "version": 3
   },
   "file_extension": ".py",
   "mimetype": "text/x-python",
   "name": "python",
   "nbconvert_exporter": "python",
   "pygments_lexer": "ipython3",
   "version": "3.9.10"
  }
 },
 "nbformat": 4,
 "nbformat_minor": 2
}
